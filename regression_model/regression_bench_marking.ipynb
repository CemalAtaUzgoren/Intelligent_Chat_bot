{
 "cells": [
  {
   "cell_type": "code",
   "execution_count": 1,
   "metadata": {},
   "outputs": [],
   "source": [
    "import pandas as pd\n",
    "from joblib import load\n",
    "import numpy as np"
   ]
  },
  {
   "cell_type": "code",
   "execution_count": 2,
   "metadata": {},
   "outputs": [],
   "source": [
    "# On-tmie ---\n",
    "use_case_01 = pd.DataFrame({'tpl' : 25,\n",
    "                            'depart_from_LDN' : ['17:49'],\n",
    "                            'depart_from_current_station' : ['19:02'],\n",
    "                            'arrive_at_NRW' : ['19:43']})\n",
    "\n",
    "use_case_02 = pd.DataFrame({'depart_from_LDN' : ['17:50'],\n",
    "               'tpl' : 25,\n",
    "               'depart_from_current_station' : ['19:02'],\n",
    "               'arrive_at_NRW' : ['19:42']})\n",
    "\n",
    "use_case_03 = pd.DataFrame({'depart_from_LDN' : ['18:29'],\n",
    "               'tpl' : 25,\n",
    "               'depart_from_current_station' : ['19:39'],\n",
    "               'arrive_at_NRW' : ['20:23']})\n",
    "\n",
    "use_case_04 = pd.DataFrame({'depart_from_LDN' : ['13:29'],\n",
    "               'tpl' : 25,\n",
    "               'depart_from_current_station' : ['13:38'],\n",
    "               'arrive_at_NRW' : ['15:17']})\n",
    "\n",
    "# Late ---\n",
    "use_case_05 = pd.DataFrame({'depart_from_LDN' : ['17:56'],\n",
    "               'tpl' : 25,\n",
    "               'depart_from_current_station' : ['19:10'],\n",
    "               'arrive_at_NRW' : ['19:54']})\n",
    "\n",
    "use_case_06 = pd.DataFrame({'depart_from_LDN' : ['19:29'],\n",
    "               'tpl' : 25,\n",
    "               'depart_from_current_station' : ['20:46'],\n",
    "               'arrive_at_NRW' : ['21:24']})\n",
    "\n",
    "use_case_07 = pd.DataFrame({'depart_from_LDN' : ['17:01'],\n",
    "               'tpl' : 25,\n",
    "               'depart_from_current_station' : ['18:09'],\n",
    "               'arrive_at_NRW' : ['18:54']})\n",
    "\n",
    "use_case_08 = pd.DataFrame({'depart_from_LDN' : ['14:30'],\n",
    "               'tpl' : 25,\n",
    "               'depart_from_current_station' : ['16:14'],\n",
    "               'arrive_at_NRW' : ['16:58']})\n",
    "\n",
    "list_of_use_cases = [use_case_01, use_case_02, use_case_03, use_case_04, use_case_05, use_case_06, use_case_07, use_case_08]"
   ]
  },
  {
   "cell_type": "code",
   "execution_count": 3,
   "metadata": {},
   "outputs": [
    {
     "name": "stdout",
     "output_type": "stream",
     "text": [
      "\n",
      ">> loading regression models\n",
      ">> Regression models loaded\n",
      "\n",
      "This train was not delayed\n",
      "True Time: 19:43\n",
      "Predicted Time: 19:44:41\n",
      "\n",
      "\n",
      "This train was not delayed\n",
      "True Time: 19:42\n",
      "Predicted Time: 19:46:09\n",
      "\n",
      "\n",
      "This train was not delayed\n",
      "True Time: 20:23\n",
      "Predicted Time: 20:21:21\n",
      "\n",
      "\n",
      "This train was not delayed\n",
      "True Time: 15:17\n",
      "Predicted Time: 15:24:32\n",
      "\n",
      "\n",
      "This train was delayed\n",
      "True Time: 19:54\n",
      "Predicted Time: 19:51:22\n",
      "\n",
      "\n",
      "This train was delayed\n",
      "True Time: 21:24\n",
      "Predicted Time: 21:27:00\n",
      "\n",
      "\n",
      "This train was delayed\n",
      "True Time: 18:54\n",
      "Predicted Time: 18:55:12\n",
      "\n",
      "\n",
      "This train was delayed\n",
      "True Time: 16:58\n",
      "Predicted Time: 16:41:06\n",
      "\n",
      "\n"
     ]
    }
   ],
   "source": [
    "import regression_model_functions\n",
    "\n",
    "for i, use_case in enumerate(list_of_use_cases):\n",
    "    if i <4:\n",
    "        print('This train was not delayed')\n",
    "    else:\n",
    "        print('This train was delayed')\n",
    "    \n",
    "    print(f\"True Time: {use_case['arrive_at_NRW'][0]}\")\n",
    "    print(f\"Predicted Time: {regression_model_functions.make_delay_prediction(use_case[['tpl','depart_from_LDN','depart_from_current_station']],output_type=str, plot_scores=True, true_value=use_case['arrive_at_NRW'])}\")\n",
    "    # print(f\"Predicted Time: {regression_model_functions.make_delay_prediction(use_case[['tpl','depart_from_LDN','depart_from_current_station']],output_type=str)}\")\n",
    "    print('\\n')\n",
    "    # regression_model_functions.score_model(use_case)"
   ]
  },
  {
   "cell_type": "code",
   "execution_count": 4,
   "metadata": {},
   "outputs": [
    {
     "data": {
      "text/plain": [
       "'13:52:10'"
      ]
     },
     "execution_count": 4,
     "metadata": {},
     "output_type": "execute_result"
    }
   ],
   "source": [
    "import regression_model_functions\n",
    "\n",
    "testing = pd.DataFrame({'depart_from_LDN' : ['12:00'],\n",
    "               'tpl' : 25,\n",
    "               'depart_from_current_station' : ['13:15'],\n",
    "               'arrive_at_NRW' : ['14:56']})\n",
    "\n",
    "\n",
    "regression_model_functions.make_delay_prediction(testing[['tpl','depart_from_LDN','depart_from_current_station']],output_type=str, plot_scores=True, true_value=testing['arrive_at_NRW'])"
   ]
  }
 ],
 "metadata": {
  "kernelspec": {
   "display_name": ".venv",
   "language": "python",
   "name": "python3"
  },
  "language_info": {
   "codemirror_mode": {
    "name": "ipython",
    "version": 3
   },
   "file_extension": ".py",
   "mimetype": "text/x-python",
   "name": "python",
   "nbconvert_exporter": "python",
   "pygments_lexer": "ipython3",
   "version": "3.11.8"
  }
 },
 "nbformat": 4,
 "nbformat_minor": 2
}
